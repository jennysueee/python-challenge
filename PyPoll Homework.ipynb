{
 "cells": [
  {
   "cell_type": "code",
   "execution_count": 2,
   "metadata": {},
   "outputs": [],
   "source": [
    "#importing & setting up paths\n",
    "import os\n",
    "import csv\n",
    "\n",
    "csvpath = os.path.join(\"Resources\", \"election_data.csv\")\n",
    "output = os.path.join(\"Resources\", \"analysis.txt\")"
   ]
  },
  {
   "cell_type": "code",
   "execution_count": 10,
   "metadata": {},
   "outputs": [
    {
     "ename": "NameError",
     "evalue": "name 'candidate' is not defined",
     "output_type": "error",
     "traceback": [
      "\u001b[1;31m---------------------------------------------------------------------------\u001b[0m",
      "\u001b[1;31mNameError\u001b[0m                                 Traceback (most recent call last)",
      "\u001b[1;32m<ipython-input-10-f4b0893c41b1>\u001b[0m in \u001b[0;36m<module>\u001b[1;34m\u001b[0m\n\u001b[0;32m     21\u001b[0m         \u001b[0mCandidates\u001b[0m \u001b[1;33m=\u001b[0m \u001b[0mrow\u001b[0m\u001b[1;33m[\u001b[0m\u001b[1;36m2\u001b[0m\u001b[1;33m]\u001b[0m\u001b[1;33m\u001b[0m\u001b[1;33m\u001b[0m\u001b[0m\n\u001b[0;32m     22\u001b[0m \u001b[1;33m\u001b[0m\u001b[0m\n\u001b[1;32m---> 23\u001b[1;33m         \u001b[1;32mif\u001b[0m \u001b[0mcandidate\u001b[0m \u001b[1;32min\u001b[0m \u001b[0mCandidates\u001b[0m\u001b[1;33m:\u001b[0m\u001b[1;33m\u001b[0m\u001b[1;33m\u001b[0m\u001b[0m\n\u001b[0m\u001b[0;32m     24\u001b[0m             \u001b[0mcandidate_index\u001b[0m \u001b[1;33m=\u001b[0m \u001b[0mCandidates\u001b[0m\u001b[1;33m.\u001b[0m\u001b[0mindex\u001b[0m\u001b[1;33m(\u001b[0m\u001b[0mcandidate\u001b[0m\u001b[1;33m)\u001b[0m\u001b[1;33m\u001b[0m\u001b[1;33m\u001b[0m\u001b[0m\n\u001b[0;32m     25\u001b[0m             \u001b[0mNumber_of_Votes\u001b[0m\u001b[1;33m[\u001b[0m\u001b[0mcandidate_index\u001b[0m\u001b[1;33m]\u001b[0m \u001b[1;33m=\u001b[0m \u001b[0mCount\u001b[0m\u001b[1;33m[\u001b[0m\u001b[0mcandidate_index\u001b[0m\u001b[1;33m]\u001b[0m \u001b[1;33m+\u001b[0m \u001b[1;36m1\u001b[0m\u001b[1;33m\u001b[0m\u001b[1;33m\u001b[0m\u001b[0m\n",
      "\u001b[1;31mNameError\u001b[0m: name 'candidate' is not defined"
     ]
    }
   ],
   "source": [
    "# I know I didn't get this right but ran out of time to troubleshoot. \n",
    "\n",
    "# Set variables\n",
    "Candidates = {}\n",
    "Count = 0\n",
    "Number_of_Votes = 0\n",
    "Percent_of_votes = 0\n",
    "Most_Votes = 0\n",
    "Winner = \"\"\n",
    "    \n",
    "# Open and read the CSV\n",
    "with open(csvpath, newline=\"\") as csvfile:\n",
    "    csvreader = csv.reader(csvfile, delimiter=\",\")\n",
    "    csv_header = next(csvfile)\n",
    "    \n",
    "    #The total number of votes cast AKA the number of rows\n",
    "    for row in csvreader:\n",
    "        Count = Count + 1\n",
    "\n",
    "    #A complete list of candidates who received votes\n",
    "        Candidates = row[2]\n",
    "\n",
    "        if candidate in Candidates:\n",
    "            candidate_index = Candidates.index(candidate)\n",
    "            Number_of_Votes[candidate_index] = Count[candidate_index] + 1\n",
    "\n",
    "        else:\n",
    "            Candidates.append(candidate)\n",
    "            number_of_votes.append(1)\n",
    "\n",
    "\n",
    "print(\"Election Results\")\n",
    "print(\"-------------------------------\")\n",
    "print(f\"Total Votes: {Count}\")\n",
    "for count in range(len(Candidates)):\n",
    "    print(f\"{Candidates[count]}: {Percent_of_votes[count]}% ({Number_of_Votes[count]})\")\n",
    "print(\"-------------------------------\")\n",
    "print(f\"Winner: {Winner}\")\n"
   ]
  },
  {
   "cell_type": "code",
   "execution_count": null,
   "metadata": {},
   "outputs": [],
   "source": []
  }
 ],
 "metadata": {
  "kernelspec": {
   "display_name": "Python 3",
   "language": "python",
   "name": "python3"
  },
  "language_info": {
   "codemirror_mode": {
    "name": "ipython",
    "version": 3
   },
   "file_extension": ".py",
   "mimetype": "text/x-python",
   "name": "python",
   "nbconvert_exporter": "python",
   "pygments_lexer": "ipython3",
   "version": "3.7.3"
  }
 },
 "nbformat": 4,
 "nbformat_minor": 2
}
